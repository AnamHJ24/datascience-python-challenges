{
  "nbformat": 4,
  "nbformat_minor": 0,
  "metadata": {
    "colab": {
      "provenance": [],
      "authorship_tag": "ABX9TyNXlu5kSoOEqWiFHotVMn16",
      "include_colab_link": true
    },
    "kernelspec": {
      "name": "python3",
      "display_name": "Python 3"
    },
    "language_info": {
      "name": "python"
    }
  },
  "cells": [
    {
      "cell_type": "markdown",
      "metadata": {
        "id": "view-in-github",
        "colab_type": "text"
      },
      "source": [
        "<a href=\"https://colab.research.google.com/github/AnamHJ24/datascience-python-challenges/blob/main/notebooks/Day_15.ipynb\" target=\"_parent\"><img src=\"https://colab.research.google.com/assets/colab-badge.svg\" alt=\"Open In Colab\"/></a>"
      ]
    },
    {
      "cell_type": "markdown",
      "source": [
        "# Day 15 - Uber\n",
        "You are a Business Analyst on the **Uber** Pool Product Team working to optimize driver compensation. The team aims to understand how trip characteristics impact driver earnings. Your goal is to develop data-driven recommendations that maximize driver earnings potential."
      ],
      "metadata": {
        "id": "Wa7htlufFRRl"
      }
    },
    {
      "cell_type": "code",
      "execution_count": 2,
      "metadata": {
        "colab": {
          "base_uri": "https://localhost:8080/",
          "height": 206
        },
        "id": "M2Nfxri4FMgf",
        "outputId": "23bde2a3-6c19-42a8-d8c9-7d0c35548009"
      },
      "outputs": [
        {
          "output_type": "execute_result",
          "data": {
            "text/plain": [
              "   trip_id  driver_id ride_type   trip_date  rider_count  total_distance  \\\n",
              "0      101          1  UberPool  2024-07-05            3            10.5   \n",
              "1      102          1  UberPool  2024-07-15            2             8.0   \n",
              "2      103          2  UberPool  2024-08-10            4            15.0   \n",
              "3      104          3     UberX  2024-07-20            1             5.0   \n",
              "4      105          2  UberPool  2024-09-01            3            12.0   \n",
              "\n",
              "   total_earnings  \n",
              "0            22.5  \n",
              "1            18.0  \n",
              "2            35.0  \n",
              "3            12.0  \n",
              "4            30.0  "
            ],
            "text/html": [
              "\n",
              "  <div id=\"df-2ede5dde-71d6-44ce-aaa3-a025d511718a\" class=\"colab-df-container\">\n",
              "    <div>\n",
              "<style scoped>\n",
              "    .dataframe tbody tr th:only-of-type {\n",
              "        vertical-align: middle;\n",
              "    }\n",
              "\n",
              "    .dataframe tbody tr th {\n",
              "        vertical-align: top;\n",
              "    }\n",
              "\n",
              "    .dataframe thead th {\n",
              "        text-align: right;\n",
              "    }\n",
              "</style>\n",
              "<table border=\"1\" class=\"dataframe\">\n",
              "  <thead>\n",
              "    <tr style=\"text-align: right;\">\n",
              "      <th></th>\n",
              "      <th>trip_id</th>\n",
              "      <th>driver_id</th>\n",
              "      <th>ride_type</th>\n",
              "      <th>trip_date</th>\n",
              "      <th>rider_count</th>\n",
              "      <th>total_distance</th>\n",
              "      <th>total_earnings</th>\n",
              "    </tr>\n",
              "  </thead>\n",
              "  <tbody>\n",
              "    <tr>\n",
              "      <th>0</th>\n",
              "      <td>101</td>\n",
              "      <td>1</td>\n",
              "      <td>UberPool</td>\n",
              "      <td>2024-07-05</td>\n",
              "      <td>3</td>\n",
              "      <td>10.5</td>\n",
              "      <td>22.5</td>\n",
              "    </tr>\n",
              "    <tr>\n",
              "      <th>1</th>\n",
              "      <td>102</td>\n",
              "      <td>1</td>\n",
              "      <td>UberPool</td>\n",
              "      <td>2024-07-15</td>\n",
              "      <td>2</td>\n",
              "      <td>8.0</td>\n",
              "      <td>18.0</td>\n",
              "    </tr>\n",
              "    <tr>\n",
              "      <th>2</th>\n",
              "      <td>103</td>\n",
              "      <td>2</td>\n",
              "      <td>UberPool</td>\n",
              "      <td>2024-08-10</td>\n",
              "      <td>4</td>\n",
              "      <td>15.0</td>\n",
              "      <td>35.0</td>\n",
              "    </tr>\n",
              "    <tr>\n",
              "      <th>3</th>\n",
              "      <td>104</td>\n",
              "      <td>3</td>\n",
              "      <td>UberX</td>\n",
              "      <td>2024-07-20</td>\n",
              "      <td>1</td>\n",
              "      <td>5.0</td>\n",
              "      <td>12.0</td>\n",
              "    </tr>\n",
              "    <tr>\n",
              "      <th>4</th>\n",
              "      <td>105</td>\n",
              "      <td>2</td>\n",
              "      <td>UberPool</td>\n",
              "      <td>2024-09-01</td>\n",
              "      <td>3</td>\n",
              "      <td>12.0</td>\n",
              "      <td>30.0</td>\n",
              "    </tr>\n",
              "  </tbody>\n",
              "</table>\n",
              "</div>\n",
              "    <div class=\"colab-df-buttons\">\n",
              "\n",
              "  <div class=\"colab-df-container\">\n",
              "    <button class=\"colab-df-convert\" onclick=\"convertToInteractive('df-2ede5dde-71d6-44ce-aaa3-a025d511718a')\"\n",
              "            title=\"Convert this dataframe to an interactive table.\"\n",
              "            style=\"display:none;\">\n",
              "\n",
              "  <svg xmlns=\"http://www.w3.org/2000/svg\" height=\"24px\" viewBox=\"0 -960 960 960\">\n",
              "    <path d=\"M120-120v-720h720v720H120Zm60-500h600v-160H180v160Zm220 220h160v-160H400v160Zm0 220h160v-160H400v160ZM180-400h160v-160H180v160Zm440 0h160v-160H620v160ZM180-180h160v-160H180v160Zm440 0h160v-160H620v160Z\"/>\n",
              "  </svg>\n",
              "    </button>\n",
              "\n",
              "  <style>\n",
              "    .colab-df-container {\n",
              "      display:flex;\n",
              "      gap: 12px;\n",
              "    }\n",
              "\n",
              "    .colab-df-convert {\n",
              "      background-color: #E8F0FE;\n",
              "      border: none;\n",
              "      border-radius: 50%;\n",
              "      cursor: pointer;\n",
              "      display: none;\n",
              "      fill: #1967D2;\n",
              "      height: 32px;\n",
              "      padding: 0 0 0 0;\n",
              "      width: 32px;\n",
              "    }\n",
              "\n",
              "    .colab-df-convert:hover {\n",
              "      background-color: #E2EBFA;\n",
              "      box-shadow: 0px 1px 2px rgba(60, 64, 67, 0.3), 0px 1px 3px 1px rgba(60, 64, 67, 0.15);\n",
              "      fill: #174EA6;\n",
              "    }\n",
              "\n",
              "    .colab-df-buttons div {\n",
              "      margin-bottom: 4px;\n",
              "    }\n",
              "\n",
              "    [theme=dark] .colab-df-convert {\n",
              "      background-color: #3B4455;\n",
              "      fill: #D2E3FC;\n",
              "    }\n",
              "\n",
              "    [theme=dark] .colab-df-convert:hover {\n",
              "      background-color: #434B5C;\n",
              "      box-shadow: 0px 1px 3px 1px rgba(0, 0, 0, 0.15);\n",
              "      filter: drop-shadow(0px 1px 2px rgba(0, 0, 0, 0.3));\n",
              "      fill: #FFFFFF;\n",
              "    }\n",
              "  </style>\n",
              "\n",
              "    <script>\n",
              "      const buttonEl =\n",
              "        document.querySelector('#df-2ede5dde-71d6-44ce-aaa3-a025d511718a button.colab-df-convert');\n",
              "      buttonEl.style.display =\n",
              "        google.colab.kernel.accessAllowed ? 'block' : 'none';\n",
              "\n",
              "      async function convertToInteractive(key) {\n",
              "        const element = document.querySelector('#df-2ede5dde-71d6-44ce-aaa3-a025d511718a');\n",
              "        const dataTable =\n",
              "          await google.colab.kernel.invokeFunction('convertToInteractive',\n",
              "                                                    [key], {});\n",
              "        if (!dataTable) return;\n",
              "\n",
              "        const docLinkHtml = 'Like what you see? Visit the ' +\n",
              "          '<a target=\"_blank\" href=https://colab.research.google.com/notebooks/data_table.ipynb>data table notebook</a>'\n",
              "          + ' to learn more about interactive tables.';\n",
              "        element.innerHTML = '';\n",
              "        dataTable['output_type'] = 'display_data';\n",
              "        await google.colab.output.renderOutput(dataTable, element);\n",
              "        const docLink = document.createElement('div');\n",
              "        docLink.innerHTML = docLinkHtml;\n",
              "        element.appendChild(docLink);\n",
              "      }\n",
              "    </script>\n",
              "  </div>\n",
              "\n",
              "\n",
              "    <div id=\"df-34b01cde-13eb-41ff-80ca-80cde21d64a2\">\n",
              "      <button class=\"colab-df-quickchart\" onclick=\"quickchart('df-34b01cde-13eb-41ff-80ca-80cde21d64a2')\"\n",
              "                title=\"Suggest charts\"\n",
              "                style=\"display:none;\">\n",
              "\n",
              "<svg xmlns=\"http://www.w3.org/2000/svg\" height=\"24px\"viewBox=\"0 0 24 24\"\n",
              "     width=\"24px\">\n",
              "    <g>\n",
              "        <path d=\"M19 3H5c-1.1 0-2 .9-2 2v14c0 1.1.9 2 2 2h14c1.1 0 2-.9 2-2V5c0-1.1-.9-2-2-2zM9 17H7v-7h2v7zm4 0h-2V7h2v10zm4 0h-2v-4h2v4z\"/>\n",
              "    </g>\n",
              "</svg>\n",
              "      </button>\n",
              "\n",
              "<style>\n",
              "  .colab-df-quickchart {\n",
              "      --bg-color: #E8F0FE;\n",
              "      --fill-color: #1967D2;\n",
              "      --hover-bg-color: #E2EBFA;\n",
              "      --hover-fill-color: #174EA6;\n",
              "      --disabled-fill-color: #AAA;\n",
              "      --disabled-bg-color: #DDD;\n",
              "  }\n",
              "\n",
              "  [theme=dark] .colab-df-quickchart {\n",
              "      --bg-color: #3B4455;\n",
              "      --fill-color: #D2E3FC;\n",
              "      --hover-bg-color: #434B5C;\n",
              "      --hover-fill-color: #FFFFFF;\n",
              "      --disabled-bg-color: #3B4455;\n",
              "      --disabled-fill-color: #666;\n",
              "  }\n",
              "\n",
              "  .colab-df-quickchart {\n",
              "    background-color: var(--bg-color);\n",
              "    border: none;\n",
              "    border-radius: 50%;\n",
              "    cursor: pointer;\n",
              "    display: none;\n",
              "    fill: var(--fill-color);\n",
              "    height: 32px;\n",
              "    padding: 0;\n",
              "    width: 32px;\n",
              "  }\n",
              "\n",
              "  .colab-df-quickchart:hover {\n",
              "    background-color: var(--hover-bg-color);\n",
              "    box-shadow: 0 1px 2px rgba(60, 64, 67, 0.3), 0 1px 3px 1px rgba(60, 64, 67, 0.15);\n",
              "    fill: var(--button-hover-fill-color);\n",
              "  }\n",
              "\n",
              "  .colab-df-quickchart-complete:disabled,\n",
              "  .colab-df-quickchart-complete:disabled:hover {\n",
              "    background-color: var(--disabled-bg-color);\n",
              "    fill: var(--disabled-fill-color);\n",
              "    box-shadow: none;\n",
              "  }\n",
              "\n",
              "  .colab-df-spinner {\n",
              "    border: 2px solid var(--fill-color);\n",
              "    border-color: transparent;\n",
              "    border-bottom-color: var(--fill-color);\n",
              "    animation:\n",
              "      spin 1s steps(1) infinite;\n",
              "  }\n",
              "\n",
              "  @keyframes spin {\n",
              "    0% {\n",
              "      border-color: transparent;\n",
              "      border-bottom-color: var(--fill-color);\n",
              "      border-left-color: var(--fill-color);\n",
              "    }\n",
              "    20% {\n",
              "      border-color: transparent;\n",
              "      border-left-color: var(--fill-color);\n",
              "      border-top-color: var(--fill-color);\n",
              "    }\n",
              "    30% {\n",
              "      border-color: transparent;\n",
              "      border-left-color: var(--fill-color);\n",
              "      border-top-color: var(--fill-color);\n",
              "      border-right-color: var(--fill-color);\n",
              "    }\n",
              "    40% {\n",
              "      border-color: transparent;\n",
              "      border-right-color: var(--fill-color);\n",
              "      border-top-color: var(--fill-color);\n",
              "    }\n",
              "    60% {\n",
              "      border-color: transparent;\n",
              "      border-right-color: var(--fill-color);\n",
              "    }\n",
              "    80% {\n",
              "      border-color: transparent;\n",
              "      border-right-color: var(--fill-color);\n",
              "      border-bottom-color: var(--fill-color);\n",
              "    }\n",
              "    90% {\n",
              "      border-color: transparent;\n",
              "      border-bottom-color: var(--fill-color);\n",
              "    }\n",
              "  }\n",
              "</style>\n",
              "\n",
              "      <script>\n",
              "        async function quickchart(key) {\n",
              "          const quickchartButtonEl =\n",
              "            document.querySelector('#' + key + ' button');\n",
              "          quickchartButtonEl.disabled = true;  // To prevent multiple clicks.\n",
              "          quickchartButtonEl.classList.add('colab-df-spinner');\n",
              "          try {\n",
              "            const charts = await google.colab.kernel.invokeFunction(\n",
              "                'suggestCharts', [key], {});\n",
              "          } catch (error) {\n",
              "            console.error('Error during call to suggestCharts:', error);\n",
              "          }\n",
              "          quickchartButtonEl.classList.remove('colab-df-spinner');\n",
              "          quickchartButtonEl.classList.add('colab-df-quickchart-complete');\n",
              "        }\n",
              "        (() => {\n",
              "          let quickchartButtonEl =\n",
              "            document.querySelector('#df-34b01cde-13eb-41ff-80ca-80cde21d64a2 button');\n",
              "          quickchartButtonEl.style.display =\n",
              "            google.colab.kernel.accessAllowed ? 'block' : 'none';\n",
              "        })();\n",
              "      </script>\n",
              "    </div>\n",
              "\n",
              "    </div>\n",
              "  </div>\n"
            ],
            "application/vnd.google.colaboratory.intrinsic+json": {
              "type": "dataframe",
              "variable_name": "fct_trips",
              "summary": "{\n  \"name\": \"fct_trips\",\n  \"rows\": 15,\n  \"fields\": [\n    {\n      \"column\": \"trip_id\",\n      \"properties\": {\n        \"dtype\": \"number\",\n        \"std\": 4,\n        \"min\": 101,\n        \"max\": 115,\n        \"num_unique_values\": 15,\n        \"samples\": [\n          110,\n          112,\n          101\n        ],\n        \"semantic_type\": \"\",\n        \"description\": \"\"\n      }\n    },\n    {\n      \"column\": \"driver_id\",\n      \"properties\": {\n        \"dtype\": \"number\",\n        \"std\": 1,\n        \"min\": 1,\n        \"max\": 7,\n        \"num_unique_values\": 7,\n        \"samples\": [\n          1,\n          2,\n          6\n        ],\n        \"semantic_type\": \"\",\n        \"description\": \"\"\n      }\n    },\n    {\n      \"column\": \"ride_type\",\n      \"properties\": {\n        \"dtype\": \"category\",\n        \"num_unique_values\": 2,\n        \"samples\": [\n          \"UberX\",\n          \"UberPool\"\n        ],\n        \"semantic_type\": \"\",\n        \"description\": \"\"\n      }\n    },\n    {\n      \"column\": \"trip_date\",\n      \"properties\": {\n        \"dtype\": \"object\",\n        \"num_unique_values\": 15,\n        \"samples\": [\n          \"2024-07-07\",\n          \"2024-09-10\"\n        ],\n        \"semantic_type\": \"\",\n        \"description\": \"\"\n      }\n    },\n    {\n      \"column\": \"rider_count\",\n      \"properties\": {\n        \"dtype\": \"number\",\n        \"std\": 1,\n        \"min\": 1,\n        \"max\": 5,\n        \"num_unique_values\": 5,\n        \"samples\": [\n          2,\n          5\n        ],\n        \"semantic_type\": \"\",\n        \"description\": \"\"\n      }\n    },\n    {\n      \"column\": \"total_distance\",\n      \"properties\": {\n        \"dtype\": \"number\",\n        \"std\": 6.432247626126464,\n        \"min\": 4.0,\n        \"max\": 25.0,\n        \"num_unique_values\": 15,\n        \"samples\": [\n          7.0,\n          4.0\n        ],\n        \"semantic_type\": \"\",\n        \"description\": \"\"\n      }\n    },\n    {\n      \"column\": \"total_earnings\",\n      \"properties\": {\n        \"dtype\": \"number\",\n        \"std\": 14.799211690717401,\n        \"min\": 10.0,\n        \"max\": 60.0,\n        \"num_unique_values\": 15,\n        \"samples\": [\n          15.0,\n          10.0\n        ],\n        \"semantic_type\": \"\",\n        \"description\": \"\"\n      }\n    }\n  ]\n}"
            }
          },
          "metadata": {},
          "execution_count": 2
        }
      ],
      "source": [
        "# Imoort required libraries\n",
        "import pandas as pd\n",
        "import numpy as np\n",
        "\n",
        "# Import data file\n",
        "url = \"https://raw.githubusercontent.com/AnamHJ24/datascience-python-challenges/refs/heads/main/Data/Day_15.txt\"\n",
        "fct_trips = pd.read_csv(url)\n",
        "fct_trips.head()\n"
      ]
    },
    {
      "cell_type": "markdown",
      "source": [
        "## Question 1\n",
        "What is the average driver earnings per completed UberPool ride with more than two riders between July 1st and September 30th, 2024? This analysis will help isolate trips that meet specific rider thresholds to understand their impact on driver earnings.\n",
        "\n",
        "## Solution"
      ],
      "metadata": {
        "id": "YX2ZSQUpGNb0"
      }
    },
    {
      "cell_type": "code",
      "source": [
        "# Convert required column to datetime\n",
        "fct_trips['trip_date'] = pd.to_datetime(fct_trips['trip_date'])\n",
        "\n",
        "# Filter date between July 1st and September 30th 2024\n",
        "july_sep_data = fct_trips[fct_trips['trip_date'].between('2024-7-1','2024-9-30')]\n",
        "\n",
        "# Filter data for rides with more than two riders for UberPool\n",
        "multiple_riders_uberpool = july_sep_data[\n",
        "  (july_sep_data['rider_count'] > 2) &\n",
        "  (july_sep_data['ride_type'] == 'UberPool')]\n",
        "\n",
        "# Calculate average earnings per ride\n",
        "avg_earnings = multiple_riders_uberpool['total_earnings'].mean()\n",
        "\n",
        "print(f\"Average driver earnings per completed UberPool ride between July 1st and September 30th: ${avg_earnings}\")"
      ],
      "metadata": {
        "colab": {
          "base_uri": "https://localhost:8080/"
        },
        "id": "EQwz2GfaGJvV",
        "outputId": "3b4b4b07-e7f0-4f8f-818b-d940378363d3"
      },
      "execution_count": 3,
      "outputs": [
        {
          "output_type": "stream",
          "name": "stdout",
          "text": [
            "Average driver earnings per completed UberPool ride between July 1st and September 30th: $36.05\n"
          ]
        }
      ]
    },
    {
      "cell_type": "markdown",
      "source": [
        "## Question 2\n",
        "For completed UberPool rides between July 1st and September 30th, 2024, derive a new column calculating earnings per mile (total_earnings divided by total_distance) and then compute the average earnings per mile for rides with more than two riders. This calculation will reveal efficiency metrics for driver compensation.\n",
        "\n",
        "## Solution"
      ],
      "metadata": {
        "id": "l8LOms7tJFef"
      }
    },
    {
      "cell_type": "code",
      "source": [
        "# Calculate earnings per mile\n",
        "multiple_riders_uberpool = multiple_riders_uberpool.copy()\n",
        "multiple_riders_uberpool['earnings_per_mile'] = (multiple_riders_uberpool['total_earnings']/multiple_riders_uberpool['total_distance']).round(2)\n",
        "\n",
        "print(multiple_riders_uberpool.head())"
      ],
      "metadata": {
        "colab": {
          "base_uri": "https://localhost:8080/"
        },
        "id": "JYJdIQZgI7uJ",
        "outputId": "6726fef9-4afc-4b89-9fb4-3e20abef5b4f"
      },
      "execution_count": 4,
      "outputs": [
        {
          "output_type": "stream",
          "name": "stdout",
          "text": [
            "   trip_id  driver_id ride_type  trip_date  rider_count  total_distance  \\\n",
            "0      101          1  UberPool 2024-07-05            3            10.5   \n",
            "2      103          2  UberPool 2024-08-10            4            15.0   \n",
            "4      105          2  UberPool 2024-09-01            3            12.0   \n",
            "5      106          4  UberPool 2024-09-15            5            20.0   \n",
            "7      108          5  UberPool 2024-08-25            4            11.0   \n",
            "\n",
            "   total_earnings  earnings_per_mile  \n",
            "0            22.5               2.14  \n",
            "2            35.0               2.33  \n",
            "4            30.0               2.50  \n",
            "5            50.0               2.50  \n",
            "7            28.0               2.55  \n"
          ]
        }
      ]
    },
    {
      "cell_type": "code",
      "source": [
        "# Calculate average earnings per mile\n",
        "avg_earnings_per_mile = multiple_riders_uberpool['earnings_per_mile'].mean()\n",
        "print(f\"Average Uber Pool driver earnings per mile for rides between July 1st and September 30th: ${avg_earnings_per_mile}\")"
      ],
      "metadata": {
        "colab": {
          "base_uri": "https://localhost:8080/"
        },
        "id": "Iu2M08gCKqX-",
        "outputId": "ad86703d-86d9-41c7-c88a-1eaae48abe6d"
      },
      "execution_count": 5,
      "outputs": [
        {
          "output_type": "stream",
          "name": "stdout",
          "text": [
            "Average Uber Pool driver earnings per mile for rides between July 1st and September 30th: $2.393\n"
          ]
        }
      ]
    },
    {
      "cell_type": "markdown",
      "source": [
        "## Question 3\n",
        "Identify the combination of rider count and total distance that results in the highest average driver earnings per UberPool ride between July 1st and September 30th, 2024. This analysis directly recommends optimal trip combination strategies to maximize driver earnings.\n",
        "\n",
        "## Solution"
      ],
      "metadata": {
        "id": "OkTFwIJiLKKf"
      }
    },
    {
      "cell_type": "code",
      "source": [
        "# Filter data for rides with UberPool\n",
        "uberpool_riders = july_sep_data[(july_sep_data['ride_type'] == 'UberPool')]\n",
        "\n",
        "# Calculate average earnings per ride\n",
        "avg_earnings_per_combo  = uberpool_riders.groupby(['rider_count', 'total_distance'])['total_earnings'].mean().reset_index()\n",
        "\n",
        "# Find the combination woth the highest earnings\n",
        "optimal_combo = avg_earnings_per_combo.loc[avg_earnings_per_combo['total_earnings'].idxmax()]\n",
        "\n",
        "print(f\"The optimal combination is {optimal_combo['rider_count']} riders with a distance of {optimal_combo['total_distance']} miles, yielding average earnings of ${optimal_combo['total_earnings']} per ride.\")"
      ],
      "metadata": {
        "colab": {
          "base_uri": "https://localhost:8080/"
        },
        "id": "tTA8D5NzLIx4",
        "outputId": "3e30ae97-ca85-4b73-977b-6382c95f4915"
      },
      "execution_count": 6,
      "outputs": [
        {
          "output_type": "stream",
          "name": "stdout",
          "text": [
            "The optimal combination is 5.0 riders with a distance of 25.0 miles, yielding average earnings of $60.0 per ride.\n"
          ]
        }
      ]
    }
  ]
}