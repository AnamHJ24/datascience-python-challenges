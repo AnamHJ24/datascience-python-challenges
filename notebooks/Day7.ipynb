{
  "nbformat": 4,
  "nbformat_minor": 0,
  "metadata": {
    "colab": {
      "provenance": [],
      "authorship_tag": "ABX9TyOI0+NRYaCtyl3Mm6B/cxbO",
      "include_colab_link": true
    },
    "kernelspec": {
      "name": "python3",
      "display_name": "Python 3"
    },
    "language_info": {
      "name": "python"
    }
  },
  "cells": [
    {
      "cell_type": "markdown",
      "metadata": {
        "id": "view-in-github",
        "colab_type": "text"
      },
      "source": [
        "<a href=\"https://colab.research.google.com/github/AnamHJ24/datascience-python-challenges/blob/main/notebooks/Day7.ipynb\" target=\"_parent\"><img src=\"https://colab.research.google.com/assets/colab-badge.svg\" alt=\"Open In Colab\"/></a>"
      ]
    },
    {
      "cell_type": "markdown",
      "source": [
        "# Day 7 - Nike\n",
        "You are a Product Analyst working on **Nike**'s marketing performance team. Your team wants\n",
        "to evaluate the effectiveness of celebrity product collaborations by analyzing sales data. You\n",
        "will investigate the performance of celebrity product drops to inform future marketing\n",
        "strategies."
      ],
      "metadata": {
        "id": "1NsBTIXWpBse"
      }
    },
    {
      "cell_type": "code",
      "execution_count": 1,
      "metadata": {
        "colab": {
          "base_uri": "https://localhost:8080/",
          "height": 206
        },
        "id": "0UHyPs4Co_CL",
        "outputId": "c423e847-59e4-4863-dd64-5a2d617e2945"
      },
      "outputs": [
        {
          "output_type": "execute_result",
          "data": {
            "text/plain": [
              "   sale_id   sale_date  product_id  sale_amount  celebrity_id\n",
              "0        1  2025-01-10         901          NaN           101\n",
              "1        2  2025-01-15         901      1500.00           101\n",
              "2        3  2025-02-03         902      2000.50           102\n",
              "3        4  2025-03-12         903      2500.75           103\n",
              "4        5  2025-03-20         904          NaN           104"
            ],
            "text/html": [
              "\n",
              "  <div id=\"df-4c54f41f-798e-4f5b-b846-b68e4b0413b2\" class=\"colab-df-container\">\n",
              "    <div>\n",
              "<style scoped>\n",
              "    .dataframe tbody tr th:only-of-type {\n",
              "        vertical-align: middle;\n",
              "    }\n",
              "\n",
              "    .dataframe tbody tr th {\n",
              "        vertical-align: top;\n",
              "    }\n",
              "\n",
              "    .dataframe thead th {\n",
              "        text-align: right;\n",
              "    }\n",
              "</style>\n",
              "<table border=\"1\" class=\"dataframe\">\n",
              "  <thead>\n",
              "    <tr style=\"text-align: right;\">\n",
              "      <th></th>\n",
              "      <th>sale_id</th>\n",
              "      <th>sale_date</th>\n",
              "      <th>product_id</th>\n",
              "      <th>sale_amount</th>\n",
              "      <th>celebrity_id</th>\n",
              "    </tr>\n",
              "  </thead>\n",
              "  <tbody>\n",
              "    <tr>\n",
              "      <th>0</th>\n",
              "      <td>1</td>\n",
              "      <td>2025-01-10</td>\n",
              "      <td>901</td>\n",
              "      <td>NaN</td>\n",
              "      <td>101</td>\n",
              "    </tr>\n",
              "    <tr>\n",
              "      <th>1</th>\n",
              "      <td>2</td>\n",
              "      <td>2025-01-15</td>\n",
              "      <td>901</td>\n",
              "      <td>1500.00</td>\n",
              "      <td>101</td>\n",
              "    </tr>\n",
              "    <tr>\n",
              "      <th>2</th>\n",
              "      <td>3</td>\n",
              "      <td>2025-02-03</td>\n",
              "      <td>902</td>\n",
              "      <td>2000.50</td>\n",
              "      <td>102</td>\n",
              "    </tr>\n",
              "    <tr>\n",
              "      <th>3</th>\n",
              "      <td>4</td>\n",
              "      <td>2025-03-12</td>\n",
              "      <td>903</td>\n",
              "      <td>2500.75</td>\n",
              "      <td>103</td>\n",
              "    </tr>\n",
              "    <tr>\n",
              "      <th>4</th>\n",
              "      <td>5</td>\n",
              "      <td>2025-03-20</td>\n",
              "      <td>904</td>\n",
              "      <td>NaN</td>\n",
              "      <td>104</td>\n",
              "    </tr>\n",
              "  </tbody>\n",
              "</table>\n",
              "</div>\n",
              "    <div class=\"colab-df-buttons\">\n",
              "\n",
              "  <div class=\"colab-df-container\">\n",
              "    <button class=\"colab-df-convert\" onclick=\"convertToInteractive('df-4c54f41f-798e-4f5b-b846-b68e4b0413b2')\"\n",
              "            title=\"Convert this dataframe to an interactive table.\"\n",
              "            style=\"display:none;\">\n",
              "\n",
              "  <svg xmlns=\"http://www.w3.org/2000/svg\" height=\"24px\" viewBox=\"0 -960 960 960\">\n",
              "    <path d=\"M120-120v-720h720v720H120Zm60-500h600v-160H180v160Zm220 220h160v-160H400v160Zm0 220h160v-160H400v160ZM180-400h160v-160H180v160Zm440 0h160v-160H620v160ZM180-180h160v-160H180v160Zm440 0h160v-160H620v160Z\"/>\n",
              "  </svg>\n",
              "    </button>\n",
              "\n",
              "  <style>\n",
              "    .colab-df-container {\n",
              "      display:flex;\n",
              "      gap: 12px;\n",
              "    }\n",
              "\n",
              "    .colab-df-convert {\n",
              "      background-color: #E8F0FE;\n",
              "      border: none;\n",
              "      border-radius: 50%;\n",
              "      cursor: pointer;\n",
              "      display: none;\n",
              "      fill: #1967D2;\n",
              "      height: 32px;\n",
              "      padding: 0 0 0 0;\n",
              "      width: 32px;\n",
              "    }\n",
              "\n",
              "    .colab-df-convert:hover {\n",
              "      background-color: #E2EBFA;\n",
              "      box-shadow: 0px 1px 2px rgba(60, 64, 67, 0.3), 0px 1px 3px 1px rgba(60, 64, 67, 0.15);\n",
              "      fill: #174EA6;\n",
              "    }\n",
              "\n",
              "    .colab-df-buttons div {\n",
              "      margin-bottom: 4px;\n",
              "    }\n",
              "\n",
              "    [theme=dark] .colab-df-convert {\n",
              "      background-color: #3B4455;\n",
              "      fill: #D2E3FC;\n",
              "    }\n",
              "\n",
              "    [theme=dark] .colab-df-convert:hover {\n",
              "      background-color: #434B5C;\n",
              "      box-shadow: 0px 1px 3px 1px rgba(0, 0, 0, 0.15);\n",
              "      filter: drop-shadow(0px 1px 2px rgba(0, 0, 0, 0.3));\n",
              "      fill: #FFFFFF;\n",
              "    }\n",
              "  </style>\n",
              "\n",
              "    <script>\n",
              "      const buttonEl =\n",
              "        document.querySelector('#df-4c54f41f-798e-4f5b-b846-b68e4b0413b2 button.colab-df-convert');\n",
              "      buttonEl.style.display =\n",
              "        google.colab.kernel.accessAllowed ? 'block' : 'none';\n",
              "\n",
              "      async function convertToInteractive(key) {\n",
              "        const element = document.querySelector('#df-4c54f41f-798e-4f5b-b846-b68e4b0413b2');\n",
              "        const dataTable =\n",
              "          await google.colab.kernel.invokeFunction('convertToInteractive',\n",
              "                                                    [key], {});\n",
              "        if (!dataTable) return;\n",
              "\n",
              "        const docLinkHtml = 'Like what you see? Visit the ' +\n",
              "          '<a target=\"_blank\" href=https://colab.research.google.com/notebooks/data_table.ipynb>data table notebook</a>'\n",
              "          + ' to learn more about interactive tables.';\n",
              "        element.innerHTML = '';\n",
              "        dataTable['output_type'] = 'display_data';\n",
              "        await google.colab.output.renderOutput(dataTable, element);\n",
              "        const docLink = document.createElement('div');\n",
              "        docLink.innerHTML = docLinkHtml;\n",
              "        element.appendChild(docLink);\n",
              "      }\n",
              "    </script>\n",
              "  </div>\n",
              "\n",
              "\n",
              "    <div id=\"df-7b86d7c6-146a-4588-a323-243ec0de2906\">\n",
              "      <button class=\"colab-df-quickchart\" onclick=\"quickchart('df-7b86d7c6-146a-4588-a323-243ec0de2906')\"\n",
              "                title=\"Suggest charts\"\n",
              "                style=\"display:none;\">\n",
              "\n",
              "<svg xmlns=\"http://www.w3.org/2000/svg\" height=\"24px\"viewBox=\"0 0 24 24\"\n",
              "     width=\"24px\">\n",
              "    <g>\n",
              "        <path d=\"M19 3H5c-1.1 0-2 .9-2 2v14c0 1.1.9 2 2 2h14c1.1 0 2-.9 2-2V5c0-1.1-.9-2-2-2zM9 17H7v-7h2v7zm4 0h-2V7h2v10zm4 0h-2v-4h2v4z\"/>\n",
              "    </g>\n",
              "</svg>\n",
              "      </button>\n",
              "\n",
              "<style>\n",
              "  .colab-df-quickchart {\n",
              "      --bg-color: #E8F0FE;\n",
              "      --fill-color: #1967D2;\n",
              "      --hover-bg-color: #E2EBFA;\n",
              "      --hover-fill-color: #174EA6;\n",
              "      --disabled-fill-color: #AAA;\n",
              "      --disabled-bg-color: #DDD;\n",
              "  }\n",
              "\n",
              "  [theme=dark] .colab-df-quickchart {\n",
              "      --bg-color: #3B4455;\n",
              "      --fill-color: #D2E3FC;\n",
              "      --hover-bg-color: #434B5C;\n",
              "      --hover-fill-color: #FFFFFF;\n",
              "      --disabled-bg-color: #3B4455;\n",
              "      --disabled-fill-color: #666;\n",
              "  }\n",
              "\n",
              "  .colab-df-quickchart {\n",
              "    background-color: var(--bg-color);\n",
              "    border: none;\n",
              "    border-radius: 50%;\n",
              "    cursor: pointer;\n",
              "    display: none;\n",
              "    fill: var(--fill-color);\n",
              "    height: 32px;\n",
              "    padding: 0;\n",
              "    width: 32px;\n",
              "  }\n",
              "\n",
              "  .colab-df-quickchart:hover {\n",
              "    background-color: var(--hover-bg-color);\n",
              "    box-shadow: 0 1px 2px rgba(60, 64, 67, 0.3), 0 1px 3px 1px rgba(60, 64, 67, 0.15);\n",
              "    fill: var(--button-hover-fill-color);\n",
              "  }\n",
              "\n",
              "  .colab-df-quickchart-complete:disabled,\n",
              "  .colab-df-quickchart-complete:disabled:hover {\n",
              "    background-color: var(--disabled-bg-color);\n",
              "    fill: var(--disabled-fill-color);\n",
              "    box-shadow: none;\n",
              "  }\n",
              "\n",
              "  .colab-df-spinner {\n",
              "    border: 2px solid var(--fill-color);\n",
              "    border-color: transparent;\n",
              "    border-bottom-color: var(--fill-color);\n",
              "    animation:\n",
              "      spin 1s steps(1) infinite;\n",
              "  }\n",
              "\n",
              "  @keyframes spin {\n",
              "    0% {\n",
              "      border-color: transparent;\n",
              "      border-bottom-color: var(--fill-color);\n",
              "      border-left-color: var(--fill-color);\n",
              "    }\n",
              "    20% {\n",
              "      border-color: transparent;\n",
              "      border-left-color: var(--fill-color);\n",
              "      border-top-color: var(--fill-color);\n",
              "    }\n",
              "    30% {\n",
              "      border-color: transparent;\n",
              "      border-left-color: var(--fill-color);\n",
              "      border-top-color: var(--fill-color);\n",
              "      border-right-color: var(--fill-color);\n",
              "    }\n",
              "    40% {\n",
              "      border-color: transparent;\n",
              "      border-right-color: var(--fill-color);\n",
              "      border-top-color: var(--fill-color);\n",
              "    }\n",
              "    60% {\n",
              "      border-color: transparent;\n",
              "      border-right-color: var(--fill-color);\n",
              "    }\n",
              "    80% {\n",
              "      border-color: transparent;\n",
              "      border-right-color: var(--fill-color);\n",
              "      border-bottom-color: var(--fill-color);\n",
              "    }\n",
              "    90% {\n",
              "      border-color: transparent;\n",
              "      border-bottom-color: var(--fill-color);\n",
              "    }\n",
              "  }\n",
              "</style>\n",
              "\n",
              "      <script>\n",
              "        async function quickchart(key) {\n",
              "          const quickchartButtonEl =\n",
              "            document.querySelector('#' + key + ' button');\n",
              "          quickchartButtonEl.disabled = true;  // To prevent multiple clicks.\n",
              "          quickchartButtonEl.classList.add('colab-df-spinner');\n",
              "          try {\n",
              "            const charts = await google.colab.kernel.invokeFunction(\n",
              "                'suggestCharts', [key], {});\n",
              "          } catch (error) {\n",
              "            console.error('Error during call to suggestCharts:', error);\n",
              "          }\n",
              "          quickchartButtonEl.classList.remove('colab-df-spinner');\n",
              "          quickchartButtonEl.classList.add('colab-df-quickchart-complete');\n",
              "        }\n",
              "        (() => {\n",
              "          let quickchartButtonEl =\n",
              "            document.querySelector('#df-7b86d7c6-146a-4588-a323-243ec0de2906 button');\n",
              "          quickchartButtonEl.style.display =\n",
              "            google.colab.kernel.accessAllowed ? 'block' : 'none';\n",
              "        })();\n",
              "      </script>\n",
              "    </div>\n",
              "\n",
              "    </div>\n",
              "  </div>\n"
            ],
            "application/vnd.google.colaboratory.intrinsic+json": {
              "type": "dataframe",
              "variable_name": "fct_sales",
              "summary": "{\n  \"name\": \"fct_sales\",\n  \"rows\": 20,\n  \"fields\": [\n    {\n      \"column\": \"sale_id\",\n      \"properties\": {\n        \"dtype\": \"number\",\n        \"std\": 5,\n        \"min\": 1,\n        \"max\": 20,\n        \"num_unique_values\": 20,\n        \"samples\": [\n          1,\n          18,\n          16\n        ],\n        \"semantic_type\": \"\",\n        \"description\": \"\"\n      }\n    },\n    {\n      \"column\": \"sale_date\",\n      \"properties\": {\n        \"dtype\": \"object\",\n        \"num_unique_values\": 20,\n        \"samples\": [\n          \"2025-01-10\",\n          \"2024-07-30\",\n          \"2025-03-28\"\n        ],\n        \"semantic_type\": \"\",\n        \"description\": \"\"\n      }\n    },\n    {\n      \"column\": \"product_id\",\n      \"properties\": {\n        \"dtype\": \"number\",\n        \"std\": 2,\n        \"min\": 901,\n        \"max\": 910,\n        \"num_unique_values\": 10,\n        \"samples\": [\n          909,\n          902,\n          906\n        ],\n        \"semantic_type\": \"\",\n        \"description\": \"\"\n      }\n    },\n    {\n      \"column\": \"sale_amount\",\n      \"properties\": {\n        \"dtype\": \"number\",\n        \"std\": 622.5009220699526,\n        \"min\": 300.0,\n        \"max\": 2500.75,\n        \"num_unique_values\": 15,\n        \"samples\": [\n          1300.0,\n          700.0,\n          1500.0\n        ],\n        \"semantic_type\": \"\",\n        \"description\": \"\"\n      }\n    },\n    {\n      \"column\": \"celebrity_id\",\n      \"properties\": {\n        \"dtype\": \"number\",\n        \"std\": 2,\n        \"min\": 101,\n        \"max\": 108,\n        \"num_unique_values\": 8,\n        \"samples\": [\n          102,\n          106,\n          101\n        ],\n        \"semantic_type\": \"\",\n        \"description\": \"\"\n      }\n    }\n  ]\n}"
            }
          },
          "metadata": {},
          "execution_count": 1
        }
      ],
      "source": [
        "# Import required libraries\n",
        "import pandas as pd\n",
        "import numpy as np\n",
        "\n",
        "# Import data file\n",
        "url = \"https://raw.githubusercontent.com/AnamHJ24/datascience-python-challenges/refs/heads/main/Data/Day7.txt\"\n",
        "fct_sales = pd.read_csv(url)\n",
        "fct_sales.head()"
      ]
    },
    {
      "cell_type": "markdown",
      "source": [
        "## Question 1\n",
        "For Q1 2025 (January 1st through March 31st, 2025), can you identify all records of celebrity\n",
        "collaborations from the sales data where the sale_amount is missing? This will help us flag incomplete\n",
        "records that could impact the analysis of Nike's product performance.\n",
        "\n",
        "## Solution:"
      ],
      "metadata": {
        "id": "iXPmaxhypxQ4"
      }
    },
    {
      "cell_type": "code",
      "source": [
        "# Convert required column to datetime\n",
        "fct_sales['sale_date'] = pd.to_datetime(fct_sales['sale_date'])\n",
        "\n",
        "# Filter Quarter 1 2025 data\n",
        "q1_25 = fct_sales[fct_sales['sale_date'].between('2025-01-01','2025-03-31')]\n",
        "\n",
        "# Identify rows with missing sale amount\n",
        "missing_q1 = q1_25[q1_25['sale_amount'].isna()]\n",
        "print(missing_q1)"
      ],
      "metadata": {
        "colab": {
          "base_uri": "https://localhost:8080/"
        },
        "id": "ea8_vDAcpvpo",
        "outputId": "041f7583-c28a-487e-977d-0df22e342eac"
      },
      "execution_count": 2,
      "outputs": [
        {
          "output_type": "stream",
          "name": "stdout",
          "text": [
            "    sale_id  sale_date  product_id  sale_amount  celebrity_id\n",
            "0         1 2025-01-10         901          NaN           101\n",
            "4         5 2025-03-20         904          NaN           104\n",
            "12       13 2025-03-15         909          NaN           102\n"
          ]
        }
      ]
    },
    {
      "cell_type": "markdown",
      "source": [
        "## Question 2\n",
        "For Q1 2025 (January 1st through March 31st, 2025), can you list the unique combinations of\n",
        "celebrity_id and product_id from the sales table? This will ensure that each collaboration is accurately\n",
        "accounted for in the analysis of Nike's marketing performance.\n",
        "\n",
        "## Solution"
      ],
      "metadata": {
        "id": "ufDSnE4Pp4_w"
      }
    },
    {
      "cell_type": "code",
      "source": [
        "# Find unique combinations of celebrity and product ids\n",
        "unique_combo = q1_25[['celebrity_id', 'product_id']].drop_duplicates()\n",
        "print(\"Unique combinations of Celebrity and Product ID's:\\n\")\n",
        "print(unique_combo)"
      ],
      "metadata": {
        "colab": {
          "base_uri": "https://localhost:8080/"
        },
        "id": "DPfWs6Yjp-FB",
        "outputId": "ef39dfc3-f550-4090-9236-6c88b0952150"
      },
      "execution_count": 6,
      "outputs": [
        {
          "output_type": "stream",
          "name": "stdout",
          "text": [
            "Unique combinations of Celebrity and Product ID's:\n",
            "\n",
            "    celebrity_id  product_id\n",
            "0            101         901\n",
            "2            102         902\n",
            "3            103         903\n",
            "4            104         904\n",
            "7            105         905\n",
            "9            106         906\n",
            "10           107         907\n",
            "11           101         908\n",
            "12           102         909\n",
            "13           108         910\n"
          ]
        }
      ]
    },
    {
      "cell_type": "markdown",
      "source": [
        "## Question 3\n",
        "For Q1 2025 (January 1st through March 31st, 2025), can you rank the unique celebrity collaborations\n",
        "based on their total sales amounts and list the top 3 collaborations in descending order? This will help\n",
        "recommend the most successful partnerships for Nike's future product drop strategies.\n",
        "\n",
        "## Solution"
      ],
      "metadata": {
        "id": "na7jiD-gp-qm"
      }
    },
    {
      "cell_type": "code",
      "source": [
        "# Find total sales amounts\n",
        "sales_sum = q1_25.groupby(['celebrity_id','product_id'])['sale_amount'].sum()\n",
        "\n",
        "# Sort and list top 3\n",
        "print(\"Top 3 celebrity collaborations and their total sales amounts:\\n\")\n",
        "print(sales_sum.sort_values(ascending = False).head(3))\n"
      ],
      "metadata": {
        "colab": {
          "base_uri": "https://localhost:8080/"
        },
        "id": "gmAYlkc7qEBG",
        "outputId": "adb7f287-1363-4167-e3ea-0f936d094c00"
      },
      "execution_count": 9,
      "outputs": [
        {
          "output_type": "stream",
          "name": "stdout",
          "text": [
            "Top 3 celebrity collaborations and their total sales amounts:\n",
            "\n",
            "celebrity_id  product_id\n",
            "102           902           3800.50\n",
            "103           903           3700.75\n",
            "105           905           2500.00\n",
            "Name: sale_amount, dtype: float64\n"
          ]
        }
      ]
    }
  ]
}