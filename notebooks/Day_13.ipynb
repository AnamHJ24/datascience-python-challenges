{
  "nbformat": 4,
  "nbformat_minor": 0,
  "metadata": {
    "colab": {
      "provenance": [],
      "authorship_tag": "ABX9TyMyTVviX4tao6f8X9bQWOfR",
      "include_colab_link": true
    },
    "kernelspec": {
      "name": "python3",
      "display_name": "Python 3"
    },
    "language_info": {
      "name": "python"
    }
  },
  "cells": [
    {
      "cell_type": "markdown",
      "metadata": {
        "id": "view-in-github",
        "colab_type": "text"
      },
      "source": [
        "<a href=\"https://colab.research.google.com/github/AnamHJ24/datascience-python-challenges/blob/main/notebooks/Day_13.ipynb\" target=\"_parent\"><img src=\"https://colab.research.google.com/assets/colab-badge.svg\" alt=\"Open In Colab\"/></a>"
      ]
    },
    {
      "cell_type": "markdown",
      "source": [
        "# Day 13 - Shake Shack\n",
        "You are a Product Analyst working with the Shake Shack R&D team to evaluate customer ratings for experimental milkshake flavors. Your team has collected ratings data from a small sampling test. Your task is to systematically analyze and clean the ratings data to identify top-performing flavors."
      ],
      "metadata": {
        "id": "j_AhvjEfldG6"
      }
    },
    {
      "cell_type": "code",
      "execution_count": 11,
      "metadata": {
        "colab": {
          "base_uri": "https://localhost:8080/",
          "height": 206
        },
        "id": "b6vJIkj7lY4W",
        "outputId": "2db30905-4c03-406d-edea-91fc008ea0ce"
      },
      "outputs": [
        {
          "output_type": "execute_result",
          "data": {
            "text/plain": [
              "              flavor  rating customer_id rating_date\n",
              "0  Classic Chocolate     4.5     CUST001  2024-07-05\n",
              "1   Strawberry Swirl     3.8     CUST002  2024-07-10\n",
              "2       Vanilla Bean     4.2     CUST003  2024-07-15\n",
              "3    Caramel Delight     3.5     CUST004  2024-07-20\n",
              "4         Mocha Bean     NaN     CUST005  2024-07-25"
            ],
            "text/html": [
              "\n",
              "  <div id=\"df-bd5496db-ab98-40bf-9687-72e884246e6a\" class=\"colab-df-container\">\n",
              "    <div>\n",
              "<style scoped>\n",
              "    .dataframe tbody tr th:only-of-type {\n",
              "        vertical-align: middle;\n",
              "    }\n",
              "\n",
              "    .dataframe tbody tr th {\n",
              "        vertical-align: top;\n",
              "    }\n",
              "\n",
              "    .dataframe thead th {\n",
              "        text-align: right;\n",
              "    }\n",
              "</style>\n",
              "<table border=\"1\" class=\"dataframe\">\n",
              "  <thead>\n",
              "    <tr style=\"text-align: right;\">\n",
              "      <th></th>\n",
              "      <th>flavor</th>\n",
              "      <th>rating</th>\n",
              "      <th>customer_id</th>\n",
              "      <th>rating_date</th>\n",
              "    </tr>\n",
              "  </thead>\n",
              "  <tbody>\n",
              "    <tr>\n",
              "      <th>0</th>\n",
              "      <td>Classic Chocolate</td>\n",
              "      <td>4.5</td>\n",
              "      <td>CUST001</td>\n",
              "      <td>2024-07-05</td>\n",
              "    </tr>\n",
              "    <tr>\n",
              "      <th>1</th>\n",
              "      <td>Strawberry Swirl</td>\n",
              "      <td>3.8</td>\n",
              "      <td>CUST002</td>\n",
              "      <td>2024-07-10</td>\n",
              "    </tr>\n",
              "    <tr>\n",
              "      <th>2</th>\n",
              "      <td>Vanilla Bean</td>\n",
              "      <td>4.2</td>\n",
              "      <td>CUST003</td>\n",
              "      <td>2024-07-15</td>\n",
              "    </tr>\n",
              "    <tr>\n",
              "      <th>3</th>\n",
              "      <td>Caramel Delight</td>\n",
              "      <td>3.5</td>\n",
              "      <td>CUST004</td>\n",
              "      <td>2024-07-20</td>\n",
              "    </tr>\n",
              "    <tr>\n",
              "      <th>4</th>\n",
              "      <td>Mocha Bean</td>\n",
              "      <td>NaN</td>\n",
              "      <td>CUST005</td>\n",
              "      <td>2024-07-25</td>\n",
              "    </tr>\n",
              "  </tbody>\n",
              "</table>\n",
              "</div>\n",
              "    <div class=\"colab-df-buttons\">\n",
              "\n",
              "  <div class=\"colab-df-container\">\n",
              "    <button class=\"colab-df-convert\" onclick=\"convertToInteractive('df-bd5496db-ab98-40bf-9687-72e884246e6a')\"\n",
              "            title=\"Convert this dataframe to an interactive table.\"\n",
              "            style=\"display:none;\">\n",
              "\n",
              "  <svg xmlns=\"http://www.w3.org/2000/svg\" height=\"24px\" viewBox=\"0 -960 960 960\">\n",
              "    <path d=\"M120-120v-720h720v720H120Zm60-500h600v-160H180v160Zm220 220h160v-160H400v160Zm0 220h160v-160H400v160ZM180-400h160v-160H180v160Zm440 0h160v-160H620v160ZM180-180h160v-160H180v160Zm440 0h160v-160H620v160Z\"/>\n",
              "  </svg>\n",
              "    </button>\n",
              "\n",
              "  <style>\n",
              "    .colab-df-container {\n",
              "      display:flex;\n",
              "      gap: 12px;\n",
              "    }\n",
              "\n",
              "    .colab-df-convert {\n",
              "      background-color: #E8F0FE;\n",
              "      border: none;\n",
              "      border-radius: 50%;\n",
              "      cursor: pointer;\n",
              "      display: none;\n",
              "      fill: #1967D2;\n",
              "      height: 32px;\n",
              "      padding: 0 0 0 0;\n",
              "      width: 32px;\n",
              "    }\n",
              "\n",
              "    .colab-df-convert:hover {\n",
              "      background-color: #E2EBFA;\n",
              "      box-shadow: 0px 1px 2px rgba(60, 64, 67, 0.3), 0px 1px 3px 1px rgba(60, 64, 67, 0.15);\n",
              "      fill: #174EA6;\n",
              "    }\n",
              "\n",
              "    .colab-df-buttons div {\n",
              "      margin-bottom: 4px;\n",
              "    }\n",
              "\n",
              "    [theme=dark] .colab-df-convert {\n",
              "      background-color: #3B4455;\n",
              "      fill: #D2E3FC;\n",
              "    }\n",
              "\n",
              "    [theme=dark] .colab-df-convert:hover {\n",
              "      background-color: #434B5C;\n",
              "      box-shadow: 0px 1px 3px 1px rgba(0, 0, 0, 0.15);\n",
              "      filter: drop-shadow(0px 1px 2px rgba(0, 0, 0, 0.3));\n",
              "      fill: #FFFFFF;\n",
              "    }\n",
              "  </style>\n",
              "\n",
              "    <script>\n",
              "      const buttonEl =\n",
              "        document.querySelector('#df-bd5496db-ab98-40bf-9687-72e884246e6a button.colab-df-convert');\n",
              "      buttonEl.style.display =\n",
              "        google.colab.kernel.accessAllowed ? 'block' : 'none';\n",
              "\n",
              "      async function convertToInteractive(key) {\n",
              "        const element = document.querySelector('#df-bd5496db-ab98-40bf-9687-72e884246e6a');\n",
              "        const dataTable =\n",
              "          await google.colab.kernel.invokeFunction('convertToInteractive',\n",
              "                                                    [key], {});\n",
              "        if (!dataTable) return;\n",
              "\n",
              "        const docLinkHtml = 'Like what you see? Visit the ' +\n",
              "          '<a target=\"_blank\" href=https://colab.research.google.com/notebooks/data_table.ipynb>data table notebook</a>'\n",
              "          + ' to learn more about interactive tables.';\n",
              "        element.innerHTML = '';\n",
              "        dataTable['output_type'] = 'display_data';\n",
              "        await google.colab.output.renderOutput(dataTable, element);\n",
              "        const docLink = document.createElement('div');\n",
              "        docLink.innerHTML = docLinkHtml;\n",
              "        element.appendChild(docLink);\n",
              "      }\n",
              "    </script>\n",
              "  </div>\n",
              "\n",
              "\n",
              "    <div id=\"df-a35b1d00-9b8a-4551-9724-d8202472ff0b\">\n",
              "      <button class=\"colab-df-quickchart\" onclick=\"quickchart('df-a35b1d00-9b8a-4551-9724-d8202472ff0b')\"\n",
              "                title=\"Suggest charts\"\n",
              "                style=\"display:none;\">\n",
              "\n",
              "<svg xmlns=\"http://www.w3.org/2000/svg\" height=\"24px\"viewBox=\"0 0 24 24\"\n",
              "     width=\"24px\">\n",
              "    <g>\n",
              "        <path d=\"M19 3H5c-1.1 0-2 .9-2 2v14c0 1.1.9 2 2 2h14c1.1 0 2-.9 2-2V5c0-1.1-.9-2-2-2zM9 17H7v-7h2v7zm4 0h-2V7h2v10zm4 0h-2v-4h2v4z\"/>\n",
              "    </g>\n",
              "</svg>\n",
              "      </button>\n",
              "\n",
              "<style>\n",
              "  .colab-df-quickchart {\n",
              "      --bg-color: #E8F0FE;\n",
              "      --fill-color: #1967D2;\n",
              "      --hover-bg-color: #E2EBFA;\n",
              "      --hover-fill-color: #174EA6;\n",
              "      --disabled-fill-color: #AAA;\n",
              "      --disabled-bg-color: #DDD;\n",
              "  }\n",
              "\n",
              "  [theme=dark] .colab-df-quickchart {\n",
              "      --bg-color: #3B4455;\n",
              "      --fill-color: #D2E3FC;\n",
              "      --hover-bg-color: #434B5C;\n",
              "      --hover-fill-color: #FFFFFF;\n",
              "      --disabled-bg-color: #3B4455;\n",
              "      --disabled-fill-color: #666;\n",
              "  }\n",
              "\n",
              "  .colab-df-quickchart {\n",
              "    background-color: var(--bg-color);\n",
              "    border: none;\n",
              "    border-radius: 50%;\n",
              "    cursor: pointer;\n",
              "    display: none;\n",
              "    fill: var(--fill-color);\n",
              "    height: 32px;\n",
              "    padding: 0;\n",
              "    width: 32px;\n",
              "  }\n",
              "\n",
              "  .colab-df-quickchart:hover {\n",
              "    background-color: var(--hover-bg-color);\n",
              "    box-shadow: 0 1px 2px rgba(60, 64, 67, 0.3), 0 1px 3px 1px rgba(60, 64, 67, 0.15);\n",
              "    fill: var(--button-hover-fill-color);\n",
              "  }\n",
              "\n",
              "  .colab-df-quickchart-complete:disabled,\n",
              "  .colab-df-quickchart-complete:disabled:hover {\n",
              "    background-color: var(--disabled-bg-color);\n",
              "    fill: var(--disabled-fill-color);\n",
              "    box-shadow: none;\n",
              "  }\n",
              "\n",
              "  .colab-df-spinner {\n",
              "    border: 2px solid var(--fill-color);\n",
              "    border-color: transparent;\n",
              "    border-bottom-color: var(--fill-color);\n",
              "    animation:\n",
              "      spin 1s steps(1) infinite;\n",
              "  }\n",
              "\n",
              "  @keyframes spin {\n",
              "    0% {\n",
              "      border-color: transparent;\n",
              "      border-bottom-color: var(--fill-color);\n",
              "      border-left-color: var(--fill-color);\n",
              "    }\n",
              "    20% {\n",
              "      border-color: transparent;\n",
              "      border-left-color: var(--fill-color);\n",
              "      border-top-color: var(--fill-color);\n",
              "    }\n",
              "    30% {\n",
              "      border-color: transparent;\n",
              "      border-left-color: var(--fill-color);\n",
              "      border-top-color: var(--fill-color);\n",
              "      border-right-color: var(--fill-color);\n",
              "    }\n",
              "    40% {\n",
              "      border-color: transparent;\n",
              "      border-right-color: var(--fill-color);\n",
              "      border-top-color: var(--fill-color);\n",
              "    }\n",
              "    60% {\n",
              "      border-color: transparent;\n",
              "      border-right-color: var(--fill-color);\n",
              "    }\n",
              "    80% {\n",
              "      border-color: transparent;\n",
              "      border-right-color: var(--fill-color);\n",
              "      border-bottom-color: var(--fill-color);\n",
              "    }\n",
              "    90% {\n",
              "      border-color: transparent;\n",
              "      border-bottom-color: var(--fill-color);\n",
              "    }\n",
              "  }\n",
              "</style>\n",
              "\n",
              "      <script>\n",
              "        async function quickchart(key) {\n",
              "          const quickchartButtonEl =\n",
              "            document.querySelector('#' + key + ' button');\n",
              "          quickchartButtonEl.disabled = true;  // To prevent multiple clicks.\n",
              "          quickchartButtonEl.classList.add('colab-df-spinner');\n",
              "          try {\n",
              "            const charts = await google.colab.kernel.invokeFunction(\n",
              "                'suggestCharts', [key], {});\n",
              "          } catch (error) {\n",
              "            console.error('Error during call to suggestCharts:', error);\n",
              "          }\n",
              "          quickchartButtonEl.classList.remove('colab-df-spinner');\n",
              "          quickchartButtonEl.classList.add('colab-df-quickchart-complete');\n",
              "        }\n",
              "        (() => {\n",
              "          let quickchartButtonEl =\n",
              "            document.querySelector('#df-a35b1d00-9b8a-4551-9724-d8202472ff0b button');\n",
              "          quickchartButtonEl.style.display =\n",
              "            google.colab.kernel.accessAllowed ? 'block' : 'none';\n",
              "        })();\n",
              "      </script>\n",
              "    </div>\n",
              "\n",
              "    </div>\n",
              "  </div>\n"
            ],
            "application/vnd.google.colaboratory.intrinsic+json": {
              "type": "dataframe",
              "variable_name": "milkshake_ratings",
              "summary": "{\n  \"name\": \"milkshake_ratings\",\n  \"rows\": 60,\n  \"fields\": [\n    {\n      \"column\": \"flavor\",\n      \"properties\": {\n        \"dtype\": \"category\",\n        \"num_unique_values\": 5,\n        \"samples\": [\n          \"Strawberry Swirl\",\n          \"Mocha Bean\",\n          \"Vanilla Bean\"\n        ],\n        \"semantic_type\": \"\",\n        \"description\": \"\"\n      }\n    },\n    {\n      \"column\": \"rating\",\n      \"properties\": {\n        \"dtype\": \"number\",\n        \"std\": 0.7147370541701148,\n        \"min\": 1.0,\n        \"max\": 6.0,\n        \"num_unique_values\": 23,\n        \"samples\": [\n          3.0,\n          4.7,\n          4.5\n        ],\n        \"semantic_type\": \"\",\n        \"description\": \"\"\n      }\n    },\n    {\n      \"column\": \"customer_id\",\n      \"properties\": {\n        \"dtype\": \"string\",\n        \"num_unique_values\": 59,\n        \"samples\": [\n          \"CUST001\",\n          \"CUST006\",\n          \"CUST035\"\n        ],\n        \"semantic_type\": \"\",\n        \"description\": \"\"\n      }\n    },\n    {\n      \"column\": \"rating_date\",\n      \"properties\": {\n        \"dtype\": \"object\",\n        \"num_unique_values\": 59,\n        \"samples\": [\n          \"2024-07-05\",\n          \"2024-08-01\",\n          \"2024-11-30\"\n        ],\n        \"semantic_type\": \"\",\n        \"description\": \"\"\n      }\n    }\n  ]\n}"
            }
          },
          "metadata": {},
          "execution_count": 11
        }
      ],
      "source": [
        "# Import required libraries\n",
        "import pandas as pd\n",
        "import numpy as np\n",
        "\n",
        "# Import data file\n",
        "url = \"https://raw.githubusercontent.com/AnamHJ24/datascience-python-challenges/refs/heads/main/Data/Day_13.txt\"\n",
        "milkshake_ratings = pd.read_csv(url)\n",
        "milkshake_ratings.head()"
      ]
    },
    {
      "cell_type": "markdown",
      "source": [
        "## Question 1\n",
        "There was an error in our data collection process, and we unknowingly introduced duplciate rows into our data. Remove any duplicate entries in the customer ratings data to ensure the accuracy of the analysis.\n",
        "\n",
        "## Solution"
      ],
      "metadata": {
        "id": "m4WvqCgBqW_T"
      }
    },
    {
      "cell_type": "code",
      "source": [
        "# Remove duplicate rows\n",
        "milkshake_ratings = milkshake_ratings.drop_duplicates()\n",
        "print(milkshake_ratings.head())"
      ],
      "metadata": {
        "colab": {
          "base_uri": "https://localhost:8080/"
        },
        "id": "GnqarfrJmvAO",
        "outputId": "e9e50c82-83ba-48db-d73b-46dbdc556ed2"
      },
      "execution_count": 12,
      "outputs": [
        {
          "output_type": "stream",
          "name": "stdout",
          "text": [
            "              flavor  rating customer_id rating_date\n",
            "0  Classic Chocolate     4.5     CUST001  2024-07-05\n",
            "1   Strawberry Swirl     3.8     CUST002  2024-07-10\n",
            "2       Vanilla Bean     4.2     CUST003  2024-07-15\n",
            "3    Caramel Delight     3.5     CUST004  2024-07-20\n",
            "4         Mocha Bean     NaN     CUST005  2024-07-25\n"
          ]
        }
      ]
    },
    {
      "cell_type": "code",
      "source": [
        "# Remove rows with incomplete data\n",
        "milkshake_ratings = milkshake_ratings.dropna()\n",
        "print(milkshake_ratings.head())"
      ],
      "metadata": {
        "colab": {
          "base_uri": "https://localhost:8080/"
        },
        "id": "GkwbV7qEtLLp",
        "outputId": "76ab78c9-5938-4ac7-a338-4df549ecf6c4"
      },
      "execution_count": 13,
      "outputs": [
        {
          "output_type": "stream",
          "name": "stdout",
          "text": [
            "              flavor  rating customer_id rating_date\n",
            "0  Classic Chocolate     4.5     CUST001  2024-07-05\n",
            "1   Strawberry Swirl     3.8     CUST002  2024-07-10\n",
            "2       Vanilla Bean     4.2     CUST003  2024-07-15\n",
            "3    Caramel Delight     3.5     CUST004  2024-07-20\n",
            "6  Classic Chocolate     5.0     CUST006  2024-08-01\n"
          ]
        }
      ]
    },
    {
      "cell_type": "markdown",
      "source": [
        "## Question 2\n",
        "For each milkshake flavor, calculate the average customer rating and append this as a new column to the milkshake_ratings DataFrame. Don't forget to clean the DataFrame first by dropping duplicate values.\n",
        "\n",
        "## Solution"
      ],
      "metadata": {
        "id": "jIZO-WJvq0ou"
      }
    },
    {
      "cell_type": "code",
      "source": [
        "# Calculate average customer rating per flavor and add new column to dataframe\n",
        "milkshake_ratings['avg_rating'] = round(milkshake_ratings.groupby('flavor')['rating'].transform('mean'),2)\n",
        "print(milkshake_ratings.head(10))"
      ],
      "metadata": {
        "colab": {
          "base_uri": "https://localhost:8080/"
        },
        "id": "rxqU0FtBqoEH",
        "outputId": "a415feaa-83c5-42c4-d21f-f1187df06a2d"
      },
      "execution_count": 17,
      "outputs": [
        {
          "output_type": "stream",
          "name": "stdout",
          "text": [
            "               flavor  rating customer_id rating_date  avg_rating\n",
            "0   Classic Chocolate     4.5     CUST001  2024-07-05        4.17\n",
            "1    Strawberry Swirl     3.8     CUST002  2024-07-10        4.24\n",
            "2        Vanilla Bean     4.2     CUST003  2024-07-15        3.91\n",
            "3     Caramel Delight     3.5     CUST004  2024-07-20        4.20\n",
            "6   Classic Chocolate     5.0     CUST006  2024-08-01        4.17\n",
            "7    Strawberry Swirl     4.0     CUST007  2024-08-02        4.24\n",
            "8        Vanilla Bean     3.9     CUST008  2024-08-03        3.91\n",
            "9     Caramel Delight     4.8     CUST009  2024-10-04        4.20\n",
            "10         Mocha Bean     2.5     CUST010  2024-09-05        3.64\n",
            "11  Classic Chocolate     4.7     CUST011  2024-10-06        4.17\n"
          ]
        }
      ]
    },
    {
      "cell_type": "markdown",
      "source": [
        "## Question 3\n",
        "For each row in dataset, calculate the difference between that customer's rating and the average rating for the flavor. Don't forget to clean the DataFrame first by dropping duplicate values.\n",
        "\n",
        "## Solution"
      ],
      "metadata": {
        "id": "sc3IYb5IsVQ0"
      }
    },
    {
      "cell_type": "code",
      "source": [
        "# Calculate difference between customer and average ratings\n",
        "milkshake_ratings['difference'] = milkshake_ratings['rating'] - milkshake_ratings['avg_rating']\n",
        "\n",
        "print(milkshake_ratings.head(10))"
      ],
      "metadata": {
        "colab": {
          "base_uri": "https://localhost:8080/"
        },
        "id": "uKzcMOSVsRvP",
        "outputId": "44ee3aee-0750-40b0-cff4-3bd6cbf73d90"
      },
      "execution_count": 21,
      "outputs": [
        {
          "output_type": "stream",
          "name": "stdout",
          "text": [
            "               flavor  rating customer_id rating_date  avg_rating  difference\n",
            "0   Classic Chocolate     4.5     CUST001  2024-07-05        4.17        0.33\n",
            "1    Strawberry Swirl     3.8     CUST002  2024-07-10        4.24       -0.44\n",
            "2        Vanilla Bean     4.2     CUST003  2024-07-15        3.91        0.29\n",
            "3     Caramel Delight     3.5     CUST004  2024-07-20        4.20       -0.70\n",
            "6   Classic Chocolate     5.0     CUST006  2024-08-01        4.17        0.83\n",
            "7    Strawberry Swirl     4.0     CUST007  2024-08-02        4.24       -0.24\n",
            "8        Vanilla Bean     3.9     CUST008  2024-08-03        3.91       -0.01\n",
            "9     Caramel Delight     4.8     CUST009  2024-10-04        4.20        0.60\n",
            "10         Mocha Bean     2.5     CUST010  2024-09-05        3.64       -1.14\n",
            "11  Classic Chocolate     4.7     CUST011  2024-10-06        4.17        0.53\n"
          ]
        }
      ]
    }
  ]
}